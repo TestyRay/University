{
  "nbformat": 4,
  "nbformat_minor": 0,
  "metadata": {
    "colab": {
      "provenance": []
    },
    "kernelspec": {
      "name": "python3",
      "display_name": "Python 3"
    },
    "language_info": {
      "name": "python"
    }
  },
  "cells": [
    {
      "cell_type": "markdown",
      "source": [
        "# **Практическая работа №1. Введение в Python. Функции ввода-вывода. Основные типы и структуры данных**\n",
        "\n",
        "---\n",
        "\n",
        "\n",
        "\n"
      ],
      "metadata": {
        "id": "wfO8faq6ZSPR"
      }
    },
    {
      "cell_type": "markdown",
      "source": [
        "**Обучающийся:** *Князев Роман Алексеевич*  \n"
      ],
      "metadata": {
        "id": "s1lvsaUa1kGY"
      }
    },
    {
      "cell_type": "markdown",
      "source": [
        "---"
      ],
      "metadata": {
        "id": "Lmxdci5V1iUz"
      }
    },
    {
      "cell_type": "markdown",
      "source": [
        "## **Блок заданий №1. Функция `print`**\n",
        "\n",
        "\n"
      ],
      "metadata": {
        "id": "APa2xjpZcAkk"
      }
    },
    {
      "cell_type": "markdown",
      "source": [
        "#### 1. Выведите на экран фразу **\"Добро пожаловать в мир Python!\"** с помощью функции `print`.\n"
      ],
      "metadata": {
        "id": "omMWRtIod-k-"
      }
    },
    {
      "cell_type": "code",
      "source": [
        "print(\"Добро пожаловать в мир Python!\")"
      ],
      "metadata": {
        "id": "0R5R1jSwd_FT",
        "colab": {
          "base_uri": "https://localhost:8080/"
        },
        "outputId": "45957620-cdfc-44a5-d8f1-e91a273b9e3e"
      },
      "execution_count": null,
      "outputs": [
        {
          "output_type": "stream",
          "name": "stdout",
          "text": [
            "Добро пожаловать в мир Python!\n"
          ]
        }
      ]
    },
    {
      "cell_type": "markdown",
      "source": [
        "#### 2. Выведите на экран результат сложения чисел **15** и **27**.\n"
      ],
      "metadata": {
        "id": "A3ysPOjNd70e"
      }
    },
    {
      "cell_type": "code",
      "source": [
        "first_num, second_num = 15, 27\n",
        "\n",
        "print(first_num + second_num)"
      ],
      "metadata": {
        "id": "5wnr_TY1eCmM",
        "colab": {
          "base_uri": "https://localhost:8080/"
        },
        "outputId": "addbace8-97e2-458e-cd5a-26b605f78188"
      },
      "execution_count": null,
      "outputs": [
        {
          "output_type": "stream",
          "name": "stdout",
          "text": [
            "42\n"
          ]
        }
      ]
    },
    {
      "cell_type": "markdown",
      "source": [
        "#### 3. Сохраните свое имя в переменную и выведите его на экран с помощью `print`."
      ],
      "metadata": {
        "id": "RBkgp7Bjd9VL"
      }
    },
    {
      "cell_type": "code",
      "source": [
        "name = input('Введите ваше имя: ')\n",
        "\n",
        "print(f'\\nВаше имя: {name}')"
      ],
      "metadata": {
        "id": "R7V70qsCeCxl",
        "colab": {
          "base_uri": "https://localhost:8080/"
        },
        "outputId": "5d4a5786-6e37-4b75-a4c5-128ba794f4aa"
      },
      "execution_count": null,
      "outputs": [
        {
          "output_type": "stream",
          "name": "stdout",
          "text": [
            "Введите ваше имя: Роман\n",
            "\n",
            "Ваше имя: Роман\n"
          ]
        }
      ]
    },
    {
      "cell_type": "markdown",
      "source": [
        "#### 4. Выведите на экран несколько строк текста, каждая из которых отображается с новой строки."
      ],
      "metadata": {
        "id": "8q_iVvGed6VD"
      }
    },
    {
      "cell_type": "code",
      "source": [
        "print(\n",
        "    'Первая строка',\n",
        "    'Вторая строка',\n",
        "    'Третья строка',\n",
        "    sep='\\n',\n",
        ")"
      ],
      "metadata": {
        "id": "5uFFGny2eC_7",
        "colab": {
          "base_uri": "https://localhost:8080/"
        },
        "outputId": "35043b3c-1548-4f15-90a2-3e0d51032563"
      },
      "execution_count": null,
      "outputs": [
        {
          "output_type": "stream",
          "name": "stdout",
          "text": [
            "Первая строка\n",
            "Вторая строка\n",
            "Третья строка\n"
          ]
        }
      ]
    },
    {
      "cell_type": "markdown",
      "source": [
        "#### 5. Выведите результат математического выражения с использованием f-строк, например:\n",
        "\n",
        "   ```python\n",
        "   7 + 7 = 14\n",
        "   ```\n"
      ],
      "metadata": {
        "id": "ZwTwWIbpeO8B"
      }
    },
    {
      "cell_type": "code",
      "source": [
        "first_num, second_num = 7, 7\n",
        "sum_nums = first_num + second_num\n",
        "\n",
        "print(f'{first_num} + {second_num} = {sum_nums}')"
      ],
      "metadata": {
        "id": "f7cGPh5reXb8",
        "colab": {
          "base_uri": "https://localhost:8080/"
        },
        "outputId": "268144e8-2866-4573-cc3d-f9ca2457d79b"
      },
      "execution_count": null,
      "outputs": [
        {
          "output_type": "stream",
          "name": "stdout",
          "text": [
            "7 + 7 = 14\n"
          ]
        }
      ]
    },
    {
      "cell_type": "markdown",
      "source": [
        "## **Блок заданий №2. Функция `input`**\n",
        "\n"
      ],
      "metadata": {
        "id": "YBCWUDzEdQcl"
      }
    },
    {
      "cell_type": "markdown",
      "source": [
        "#### 1. Запросите у пользователя три разных числа и выведите их произведение.\n"
      ],
      "metadata": {
        "id": "1JG7ncRffYpN"
      }
    },
    {
      "cell_type": "code",
      "source": [
        "first_num, second_num, third_num = (\n",
        "    int(input('Введите первое число: ')),\n",
        "    int(input('Введите второе число: ')),\n",
        "    int(input('Введите третье число: '))\n",
        ")\n",
        "\n",
        "product_nums = first_num * second_num * third_num\n",
        "\n",
        "print(f\"\\nПроизведение чисел: {product_nums}\")"
      ],
      "metadata": {
        "id": "duI1IqytfZo3",
        "colab": {
          "base_uri": "https://localhost:8080/"
        },
        "outputId": "85e81407-6a77-4a3f-d2fb-835e8ddd21d7"
      },
      "execution_count": null,
      "outputs": [
        {
          "output_type": "stream",
          "name": "stdout",
          "text": [
            "Введите первое число: 1\n",
            "Введите второе число: 2\n",
            "Введите третье число: 3\n",
            "\n",
            "Произведение чисел: 6\n"
          ]
        }
      ]
    },
    {
      "cell_type": "markdown",
      "source": [
        "#### 2. Попросите пользователя ввести свое ФИО, а затем выведите фамилию и инициалы.\n"
      ],
      "metadata": {
        "id": "CGLKsG9yfXZf"
      }
    },
    {
      "cell_type": "code",
      "source": [
        "full_name = input(\"Введите ваше ФИО: \")\n",
        "last_name, first_name, patronymic = full_name.split()\n",
        "print(f\"\\nФамилия и инициалы: {last_name} {first_name[0]}.{patronymic[0]}.\")"
      ],
      "metadata": {
        "id": "OhBXFkoffZ1l",
        "colab": {
          "base_uri": "https://localhost:8080/"
        },
        "outputId": "d1f95d7d-3479-446e-8f4b-f2a09968ccd6"
      },
      "execution_count": 76,
      "outputs": [
        {
          "output_type": "stream",
          "name": "stdout",
          "text": [
            "Введите ваше ФИО: Князев Роман Алексеевич\n",
            "\n",
            "Фамилия и инициалы: Князев Р.А.\n"
          ]
        }
      ]
    },
    {
      "cell_type": "markdown",
      "source": [
        "#### 3. Получите от пользователя строку и символ, затем определите, сколько раз этот символ встречается в строке.\n"
      ],
      "metadata": {
        "id": "FJd73_DSfWgf"
      }
    },
    {
      "cell_type": "markdown",
      "source": [],
      "metadata": {
        "id": "0-xxA7UjaHTR"
      }
    },
    {
      "cell_type": "code",
      "source": [
        "line, symbol = (\n",
        "    input(\"Введите строку, в которой будем искать: \"),\n",
        "    input(\"Введите символ, который нужно посчитать: \")\n",
        ")\n",
        "\n",
        "total_number_meetings = line.count(symbol)\n",
        "\n",
        "print(f\"\\nСимвол '{symbol}' встречается в строке {total_number_meetings} раз(а).\")"
      ],
      "metadata": {
        "id": "VAzbeJANfaAP",
        "colab": {
          "base_uri": "https://localhost:8080/"
        },
        "outputId": "fca04a29-e28b-4e56-b735-433e7b403511"
      },
      "execution_count": null,
      "outputs": [
        {
          "output_type": "stream",
          "name": "stdout",
          "text": [
            "Введите строку, в которой будем искать: Lorem ipsum dolor sit amet consectetur adipiscing elit\n",
            "Введите символ, который нужно посчитать: o\n",
            "\n",
            "Символ 'o' встречается в строке 4 раз(а).\n"
          ]
        }
      ]
    },
    {
      "cell_type": "markdown",
      "source": [
        "#### 4. Попросите пользователя ввести любимый цвет и выведите сообщение: **\"[Цвет] - красивый цвет!\"**.\n"
      ],
      "metadata": {
        "id": "ZY_cf1nbfVbo"
      }
    },
    {
      "cell_type": "code",
      "source": [
        "color = input(\"Введите ваш любимый цвет: \")\n",
        "\n",
        "print(f\"\\n{color} - красивый цвет!\")"
      ],
      "metadata": {
        "id": "vVoFM74MfaMe",
        "colab": {
          "base_uri": "https://localhost:8080/"
        },
        "outputId": "66f6b389-2aa2-47b7-d89a-f0411c9f4caa"
      },
      "execution_count": null,
      "outputs": [
        {
          "output_type": "stream",
          "name": "stdout",
          "text": [
            "Введите ваш любимый цвет: Фиолетовый\n",
            "\n",
            "Фиолетовый - красивый цвет!\n"
          ]
        }
      ]
    },
    {
      "cell_type": "markdown",
      "source": [
        "#### 5. Получите от пользователя строку и выведите ее длину."
      ],
      "metadata": {
        "id": "a6ekPIcOfUFK"
      }
    },
    {
      "cell_type": "code",
      "source": [
        "line = input(\"Введите строку: \")\n",
        "\n",
        "print(f\"\\nДлина строки: {len(line)} символов\")"
      ],
      "metadata": {
        "id": "psRmx_htfas2",
        "colab": {
          "base_uri": "https://localhost:8080/"
        },
        "outputId": "e594521c-86d8-48f7-d70e-cd6bc2f67a84"
      },
      "execution_count": null,
      "outputs": [
        {
          "output_type": "stream",
          "name": "stdout",
          "text": [
            "Введите строку: Lorem ipsum dolor sit amet consectetur adipiscing elit\n",
            "\n",
            "Длина строки: 54 символов\n"
          ]
        }
      ]
    },
    {
      "cell_type": "markdown",
      "source": [
        "## **Блок заданий №3. Тип данных `int`**"
      ],
      "metadata": {
        "id": "gQ99P3lxgEvA"
      }
    },
    {
      "cell_type": "markdown",
      "source": [
        "#### Тип данных `int`\n",
        "\n",
        "\n",
        "\n",
        "\n",
        "\n"
      ],
      "metadata": {
        "id": "c-pHmy5NctvU"
      }
    },
    {
      "cell_type": "markdown",
      "source": [
        "1. Создайте переменную типа `int`, присвойте ей значение **42** и выведите на экран."
      ],
      "metadata": {
        "id": "1YAKZCMuglIZ"
      }
    },
    {
      "cell_type": "code",
      "source": [
        "num = 42\n",
        "\n",
        "print(num)"
      ],
      "metadata": {
        "id": "BpqJyc5GgmWz",
        "colab": {
          "base_uri": "https://localhost:8080/"
        },
        "outputId": "a4748147-0d91-447f-b95f-1bf06dca8233"
      },
      "execution_count": null,
      "outputs": [
        {
          "output_type": "stream",
          "name": "stdout",
          "text": [
            "42\n"
          ]
        }
      ]
    },
    {
      "cell_type": "markdown",
      "source": [
        "2. Вычислите и выведите результат выражения **(17 * 3) + (10 / 2)** в виде целого числа."
      ],
      "metadata": {
        "id": "J3FS1RtDgkCO"
      }
    },
    {
      "cell_type": "code",
      "source": [
        "result = (17 * 3) + (10 / 2)\n",
        "\n",
        "print(int(result))"
      ],
      "metadata": {
        "id": "YLIx8CCrgmkU",
        "colab": {
          "base_uri": "https://localhost:8080/"
        },
        "outputId": "963a785d-032f-4001-ea24-8d6ffe0c5e3e"
      },
      "execution_count": null,
      "outputs": [
        {
          "output_type": "stream",
          "name": "stdout",
          "text": [
            "56\n"
          ]
        }
      ]
    },
    {
      "cell_type": "markdown",
      "source": [
        "3. Преобразуйте строку **\"100\"** в целое число и добавьте к нему **25**."
      ],
      "metadata": {
        "id": "91x1Lb4tgier"
      }
    },
    {
      "cell_type": "code",
      "source": [
        "num_str = \"100\"\n",
        "add_num = 25\n",
        "\n",
        "result = int(num_str) + add_num\n",
        "\n",
        "print(result)"
      ],
      "metadata": {
        "id": "vmEIAy1CgmzH",
        "colab": {
          "base_uri": "https://localhost:8080/"
        },
        "outputId": "6a2e25e3-02f1-4018-9108-a6b4f1f8af40"
      },
      "execution_count": null,
      "outputs": [
        {
          "output_type": "stream",
          "name": "stdout",
          "text": [
            "125\n"
          ]
        }
      ]
    },
    {
      "cell_type": "markdown",
      "source": [
        "4. Проверьте тип переменной, которая хранит значение **7**, используя функцию `type()`."
      ],
      "metadata": {
        "id": "Ua_0A7teghG0"
      }
    },
    {
      "cell_type": "code",
      "source": [
        "num = 7\n",
        "\n",
        "print(f\"Тип переменной {num=}: {type(num)}\")"
      ],
      "metadata": {
        "id": "56_CnKgGgnFi",
        "colab": {
          "base_uri": "https://localhost:8080/"
        },
        "outputId": "4fe1ae61-f629-4e13-efdf-bc410af70660"
      },
      "execution_count": null,
      "outputs": [
        {
          "output_type": "stream",
          "name": "stdout",
          "text": [
            "Тип переменной num=7: <class 'int'>\n"
          ]
        }
      ]
    },
    {
      "cell_type": "markdown",
      "source": [
        "5. Создайте две переменные целого типа, присвойте им значения и выведите их разницу."
      ],
      "metadata": {
        "id": "JxK0fU_Wgf8J"
      }
    },
    {
      "cell_type": "code",
      "source": [
        "first_num = 100\n",
        "second_num = 55\n",
        "\n",
        "difference_nums = first_num - second_num\n",
        "\n",
        "print(f\"Разница между {first_num} и {second_num} равна {difference_nums}\")"
      ],
      "metadata": {
        "id": "GFsY9xSkgnfv",
        "colab": {
          "base_uri": "https://localhost:8080/"
        },
        "outputId": "4f386f18-ab56-4bd2-8b15-538d00a6ad04"
      },
      "execution_count": null,
      "outputs": [
        {
          "output_type": "stream",
          "name": "stdout",
          "text": [
            "Разница между 100 и 55 равна 45\n"
          ]
        }
      ]
    },
    {
      "cell_type": "markdown",
      "source": [
        "## **Блок заданий №4. Тип данных `float`**"
      ],
      "metadata": {
        "id": "G-DskIxcg598"
      }
    },
    {
      "cell_type": "markdown",
      "source": [
        "#### 1. Запросите у пользователя вещественное число и выведите его квадрат.\n",
        "\n",
        "\n",
        "\n"
      ],
      "metadata": {
        "id": "W5liVT_kcwnQ"
      }
    },
    {
      "cell_type": "code",
      "source": [
        "num = float(input(\"Введите вещественное число: \"))\n",
        "\n",
        "square_num = num ** 2\n",
        "\n",
        "print(f\"\\nКвадрат числа {num} равен {square_num}\")"
      ],
      "metadata": {
        "id": "S_i6OLwShHaH",
        "colab": {
          "base_uri": "https://localhost:8080/"
        },
        "outputId": "9a1d21d4-0a7d-4f30-af52-fbb7af6f37cc"
      },
      "execution_count": null,
      "outputs": [
        {
          "output_type": "stream",
          "name": "stdout",
          "text": [
            "Введите вещественное число: 2.4\n",
            "\n",
            "Квадрат числа 2.4 равен 5.76\n"
          ]
        }
      ]
    },
    {
      "cell_type": "markdown",
      "source": [
        "#### 2. Запросите у пользователя вещественное число и округлите его до двух знаков после запятой."
      ],
      "metadata": {
        "id": "rcXGDx7FhGZ7"
      }
    },
    {
      "cell_type": "code",
      "source": [
        "num = float(input(\"Введите вещественное число: \"))\n",
        "\n",
        "rounded_num = round(num, 2)\n",
        "\n",
        "print(f\"\\nЧисло {num} округлённое до двух знаков после запятой: {rounded_num}\")"
      ],
      "metadata": {
        "id": "W534mNlphHoW",
        "colab": {
          "base_uri": "https://localhost:8080/"
        },
        "outputId": "8f6a112a-c105-4eda-d5e0-43230cae8e6c"
      },
      "execution_count": null,
      "outputs": [
        {
          "output_type": "stream",
          "name": "stdout",
          "text": [
            "Введите вещественное число: 1.23456\n",
            "\n",
            "Число 1.23456 округлённое до двух знаков после запятой: 1.23\n"
          ]
        }
      ]
    },
    {
      "cell_type": "markdown",
      "source": [
        "#### 3. Сложите два числа с плавающей точкой: **2.5** и **4.7**, выведите результат."
      ],
      "metadata": {
        "id": "2HZIMG65hEwD"
      }
    },
    {
      "cell_type": "code",
      "source": [
        "first_num = 2.5\n",
        "second_num = 4.7\n",
        "\n",
        "result = first_num + second_num\n",
        "\n",
        "print(f\"Сумма {first_num} и {second_num} равна {result}\")"
      ],
      "metadata": {
        "id": "tNhoDLUqhH-Q",
        "colab": {
          "base_uri": "https://localhost:8080/"
        },
        "outputId": "34966d32-11ae-4352-b074-05f4a4fa536d"
      },
      "execution_count": null,
      "outputs": [
        {
          "output_type": "stream",
          "name": "stdout",
          "text": [
            "Сумма 2.5 и 4.7 равна 7.2\n"
          ]
        }
      ]
    },
    {
      "cell_type": "markdown",
      "source": [
        "#### 4. Преобразуйте градусы Цельсия, введенные пользователем, в Фаренгейты по формуле `F = C * 9/5 + 32`."
      ],
      "metadata": {
        "id": "lbX1tt0_hDlr"
      }
    },
    {
      "cell_type": "code",
      "source": [
        "celsius = float(input(\"Введите температуру в градусах Цельсия: \"))\n",
        "\n",
        "fahrenheit = celsius * 9 / 5 + 32\n",
        "\n",
        "print(f\"\\n{celsius}°C = {fahrenheit}°F\")"
      ],
      "metadata": {
        "id": "tjYR7aRHhILq",
        "colab": {
          "base_uri": "https://localhost:8080/"
        },
        "outputId": "db03d1e0-52da-4b3f-8e0b-4e92c91a45a2"
      },
      "execution_count": null,
      "outputs": [
        {
          "output_type": "stream",
          "name": "stdout",
          "text": [
            "Введите температуру в градусах Цельсия: 37\n",
            "\n",
            "37.0°C = 98.6°F\n"
          ]
        }
      ]
    },
    {
      "cell_type": "markdown",
      "source": [
        "#### 5. Получите от пользователя длину и ширину прямоугольника, вычислите его площадь и периметр."
      ],
      "metadata": {
        "id": "RhghSwthhCPJ"
      }
    },
    {
      "cell_type": "code",
      "source": [
        "length = float(input(\"Введите длину прямоугольника: \"))\n",
        "width = float(input(\"Введите ширину прямоугольника: \"))\n",
        "\n",
        "area = length * width\n",
        "perimeter = 2 * (length + width)\n",
        "\n",
        "print(f\"\\nПлощадь прямоугольника: {area}\")\n",
        "print(f\"Периметр прямоугольника: {perimeter}\")\n"
      ],
      "metadata": {
        "id": "GjKTKXmZhIaN",
        "colab": {
          "base_uri": "https://localhost:8080/"
        },
        "outputId": "958c857e-fde8-4046-cfd4-7f98042fbec9"
      },
      "execution_count": null,
      "outputs": [
        {
          "output_type": "stream",
          "name": "stdout",
          "text": [
            "Введите длину прямоугольника: 1\n",
            "Введите ширину прямоугольника: 2\n",
            "\n",
            "Площадь прямоугольника: 2.0\n",
            "Периметр прямоугольника: 6.0\n"
          ]
        }
      ]
    },
    {
      "cell_type": "markdown",
      "source": [
        "## **Блок заданий №5. Тип данных `str`**"
      ],
      "metadata": {
        "id": "CslTMbtXiWOP"
      }
    },
    {
      "cell_type": "markdown",
      "source": [
        "####1. Создайте строку **\"Python - самый популярный язык программирования\"** и выведите ее.\n"
      ],
      "metadata": {
        "id": "KUmla5cCieae"
      }
    },
    {
      "cell_type": "code",
      "source": [
        "text = \"Python - самый популярный язык программирования\"\n",
        "\n",
        "print(text)"
      ],
      "metadata": {
        "id": "Q7kHloVXlMVB",
        "colab": {
          "base_uri": "https://localhost:8080/"
        },
        "outputId": "3811f4e9-2e5a-486f-d8c0-17b92f41530e"
      },
      "execution_count": null,
      "outputs": [
        {
          "output_type": "stream",
          "name": "stdout",
          "text": [
            "Python - самый популярный язык программирования\n"
          ]
        }
      ]
    },
    {
      "cell_type": "markdown",
      "source": [
        "####2. Выведите первый и последний символы строки **\"Привет, мир!\"**."
      ],
      "metadata": {
        "id": "ypQL09raiehN"
      }
    },
    {
      "cell_type": "code",
      "source": [
        "text = \"Привет, мир!\"\n",
        "\n",
        "first_char = text[0]\n",
        "last_char = text[-1]\n",
        "\n",
        "print(f\"Первый символ: {first_char}\")\n",
        "print(f\"Последний символ: {last_char}\")"
      ],
      "metadata": {
        "id": "iVU99HAUlMpC",
        "colab": {
          "base_uri": "https://localhost:8080/"
        },
        "outputId": "7fe86909-80af-410d-e70b-a09f87e20b45"
      },
      "execution_count": null,
      "outputs": [
        {
          "output_type": "stream",
          "name": "stdout",
          "text": [
            "Первый символ: П\n",
            "Последний символ: !\n"
          ]
        }
      ]
    },
    {
      "cell_type": "markdown",
      "source": [
        "####3. Соедините три строки: **\"МИИГАиК - \"** , **\"Лучший \"**, **\"ВУЗ!\"** выведите результат."
      ],
      "metadata": {
        "id": "XxKbQhFkiw83"
      }
    },
    {
      "cell_type": "code",
      "source": [
        "part1 = \"МИИГАиК - \"\n",
        "part2 = \"Лучший \"\n",
        "part3 = \"ВУЗ!\"\n",
        "\n",
        "result = part1 + part2 + part3\n",
        "\n",
        "print(result)"
      ],
      "metadata": {
        "id": "4amk_NcnlM3T",
        "colab": {
          "base_uri": "https://localhost:8080/"
        },
        "outputId": "14393743-ecc9-4835-939b-82c82f47c9de"
      },
      "execution_count": null,
      "outputs": [
        {
          "output_type": "stream",
          "name": "stdout",
          "text": [
            "МИИГАиК - Лучший ВУЗ!\n"
          ]
        }
      ]
    },
    {
      "cell_type": "markdown",
      "source": [
        "####4. Преобразуйте строку **\"12345\"** в число и выведите тип полученного значения.\n"
      ],
      "metadata": {
        "id": "MXOJX4g8ieoI"
      }
    },
    {
      "cell_type": "code",
      "source": [
        "num_str = \"12345\"\n",
        "num_int = int(num_str)\n",
        "\n",
        "print(f\"Тип переменной {num_int=}: {type(num_int)}\")"
      ],
      "metadata": {
        "id": "t6Wvy7CZlNM2",
        "colab": {
          "base_uri": "https://localhost:8080/"
        },
        "outputId": "1eae5bf0-0b96-475d-c465-080f3f6e906c"
      },
      "execution_count": null,
      "outputs": [
        {
          "output_type": "stream",
          "name": "stdout",
          "text": [
            "Тип переменной num_int=12345: <class 'int'>\n"
          ]
        }
      ]
    },
    {
      "cell_type": "markdown",
      "source": [
        "####5. Сделайте все буквы строки **\"python is Fun\"** заглавными и выведите результат."
      ],
      "metadata": {
        "id": "hhBQ-8gMc0Li"
      }
    },
    {
      "cell_type": "code",
      "source": [
        "text = \"python is Fun\"\n",
        "\n",
        "result = text.upper()\n",
        "\n",
        "print(result)"
      ],
      "metadata": {
        "id": "n3KLT91zlNgY",
        "colab": {
          "base_uri": "https://localhost:8080/"
        },
        "outputId": "1131ad0e-b272-4e32-e028-76ee445b21c2"
      },
      "execution_count": null,
      "outputs": [
        {
          "output_type": "stream",
          "name": "stdout",
          "text": [
            "PYTHON IS FUN\n"
          ]
        }
      ]
    },
    {
      "cell_type": "markdown",
      "source": [
        "## **Блок заданий №6. Тип данных `list`**"
      ],
      "metadata": {
        "id": "ud5LmPUPlXND"
      }
    },
    {
      "cell_type": "markdown",
      "source": [
        "####1. Создайте список из чисел **[10, 20, 30, 40, 50]** и выведите его.\n"
      ],
      "metadata": {
        "id": "ZDkNefxXlXND"
      }
    },
    {
      "cell_type": "code",
      "source": [
        "numbers = [10, 20, 30, 40, 50]\n",
        "\n",
        "print(numbers)"
      ],
      "metadata": {
        "id": "G6fH9gBLlzI2",
        "colab": {
          "base_uri": "https://localhost:8080/"
        },
        "outputId": "263dc33a-030f-455a-85fd-75f8f7b39010"
      },
      "execution_count": null,
      "outputs": [
        {
          "output_type": "stream",
          "name": "stdout",
          "text": [
            "[10, 20, 30, 40, 50]\n"
          ]
        }
      ]
    },
    {
      "cell_type": "markdown",
      "source": [
        "####2. Добавьте в список строку **\"новый элемент\"** и выведите обновленный список.\n"
      ],
      "metadata": {
        "id": "oDUtdPi-lo7n"
      }
    },
    {
      "cell_type": "code",
      "source": [
        "items = [10, 20, 30, 40, 50]\n",
        "new_item = \"новый элемент\"\n",
        "\n",
        "items.append(new_item)\n",
        "\n",
        "print(items)"
      ],
      "metadata": {
        "id": "6QhNXffflzXT",
        "colab": {
          "base_uri": "https://localhost:8080/"
        },
        "outputId": "7bda07cb-bf63-4565-d351-57000151d2c7"
      },
      "execution_count": null,
      "outputs": [
        {
          "output_type": "stream",
          "name": "stdout",
          "text": [
            "[10, 20, 30, 40, 50, 'новый элемент']\n"
          ]
        }
      ]
    },
    {
      "cell_type": "markdown",
      "source": [
        "####3. Из списка `['python', 'java', 'c++', 'ruby', 'perl']` выведите элементы с 2-го по 4-й включительно.\n"
      ],
      "metadata": {
        "id": "BZlOVdc4lo-O"
      }
    },
    {
      "cell_type": "code",
      "source": [
        "languages = ['python', 'java', 'c++', 'ruby', 'perl']\n",
        "\n",
        "print(languages[1:4])"
      ],
      "metadata": {
        "id": "lU12ExUElzjH",
        "colab": {
          "base_uri": "https://localhost:8080/"
        },
        "outputId": "61d50108-0d22-403a-c999-94d0527f403a"
      },
      "execution_count": null,
      "outputs": [
        {
          "output_type": "stream",
          "name": "stdout",
          "text": [
            "['java', 'c++', 'ruby']\n"
          ]
        }
      ]
    },
    {
      "cell_type": "markdown",
      "source": [
        "####4. Создайте пустой список, добавьте в него три любых значения и выведите итоговый список.\n"
      ],
      "metadata": {
        "id": "0dZPxhU_lpCN"
      }
    },
    {
      "cell_type": "code",
      "source": [
        "new_list = []\n",
        "\n",
        "new_list.append(\"Test\")\n",
        "new_list.append(666)\n",
        "new_list.append(999.99)\n",
        "\n",
        "print(new_list)\n"
      ],
      "metadata": {
        "id": "pRQ1BHKUlzud",
        "colab": {
          "base_uri": "https://localhost:8080/"
        },
        "outputId": "fee0a2df-3472-43ea-8f1e-74b0d5270a4f"
      },
      "execution_count": null,
      "outputs": [
        {
          "output_type": "stream",
          "name": "stdout",
          "text": [
            "['Test', 666, 999.99]\n"
          ]
        }
      ]
    },
    {
      "cell_type": "markdown",
      "source": [
        "####5. Измените второй элемент списка **[1, 2, 3, 4, 5]** на число **200** и выведите список."
      ],
      "metadata": {
        "id": "o104mH_plpJl"
      }
    },
    {
      "cell_type": "code",
      "source": [
        "nums = [1, 2, 3, 4, 5]\n",
        "\n",
        "nums[1] = 200\n",
        "\n",
        "print(nums)"
      ],
      "metadata": {
        "id": "ur_sqeAYlz-0",
        "colab": {
          "base_uri": "https://localhost:8080/"
        },
        "outputId": "2ca651bd-9d19-471d-ace2-8e6f7aa2b911"
      },
      "execution_count": null,
      "outputs": [
        {
          "output_type": "stream",
          "name": "stdout",
          "text": [
            "[1, 200, 3, 4, 5]\n"
          ]
        }
      ]
    },
    {
      "cell_type": "markdown",
      "source": [
        "## **Блок заданий №7. Тип данных `tuple`**"
      ],
      "metadata": {
        "id": "w7lcJPx9mhLe"
      }
    },
    {
      "cell_type": "markdown",
      "source": [
        "####1. Создайте кортеж из чисел **(1, 2, 3, 4, 5)** и выведите его на экран.\n"
      ],
      "metadata": {
        "id": "HqmF9aMWmeon"
      }
    },
    {
      "cell_type": "code",
      "source": [
        "nums = (1, 2, 3, 4, 5)\n",
        "\n",
        "print(nums)"
      ],
      "metadata": {
        "id": "hGuk1KfHn7V7",
        "colab": {
          "base_uri": "https://localhost:8080/"
        },
        "outputId": "426c9568-f8bd-468e-eeb8-989b070a858c"
      },
      "execution_count": null,
      "outputs": [
        {
          "output_type": "stream",
          "name": "stdout",
          "text": [
            "(1, 2, 3, 4, 5)\n"
          ]
        }
      ]
    },
    {
      "cell_type": "markdown",
      "source": [
        "####2. Попробуйте изменить первый элемент кортежа и объясните в комментариях к программе, что произошло.\n"
      ],
      "metadata": {
        "id": "_QQf4g6gmerF"
      }
    },
    {
      "cell_type": "code",
      "source": [
        "nums = (1, 2, 3, 4, 5)\n",
        "\n",
        "# Произойдет ошибка TypeError, потому что кортежи неизменяемы.\n",
        "# Их элементы нельзя изменить после создания.\n",
        "# nums[0] = 55"
      ],
      "metadata": {
        "id": "sZcbKwV_n7vA",
        "colab": {
          "base_uri": "https://localhost:8080/",
          "height": 176
        },
        "outputId": "2509e3fa-2f5a-4d41-ebcd-5e9fc0bb40d9"
      },
      "execution_count": 61,
      "outputs": [
        {
          "output_type": "error",
          "ename": "TypeError",
          "evalue": "'tuple' object does not support item assignment",
          "traceback": [
            "\u001b[0;31m---------------------------------------------------------------------------\u001b[0m",
            "\u001b[0;31mTypeError\u001b[0m                                 Traceback (most recent call last)",
            "\u001b[0;32m/tmp/ipython-input-3426312351.py\u001b[0m in \u001b[0;36m<cell line: 0>\u001b[0;34m()\u001b[0m\n\u001b[1;32m      3\u001b[0m \u001b[0;31m# Произойдет ошибка TypeError, потому что кортежи неизменяемы.\u001b[0m\u001b[0;34m\u001b[0m\u001b[0;34m\u001b[0m\u001b[0m\n\u001b[1;32m      4\u001b[0m \u001b[0;31m# Их элементы нельзя изменить после создания.\u001b[0m\u001b[0;34m\u001b[0m\u001b[0;34m\u001b[0m\u001b[0m\n\u001b[0;32m----> 5\u001b[0;31m \u001b[0mnums\u001b[0m\u001b[0;34m[\u001b[0m\u001b[0;36m0\u001b[0m\u001b[0;34m]\u001b[0m \u001b[0;34m=\u001b[0m \u001b[0;36m55\u001b[0m\u001b[0;34m\u001b[0m\u001b[0;34m\u001b[0m\u001b[0m\n\u001b[0m",
            "\u001b[0;31mTypeError\u001b[0m: 'tuple' object does not support item assignment"
          ]
        }
      ]
    },
    {
      "cell_type": "markdown",
      "source": [
        "####3. Преобразуйте кортеж в строку и выведите результат.\n"
      ],
      "metadata": {
        "id": "6fMHK5femevO"
      }
    },
    {
      "cell_type": "code",
      "source": [
        "nums = (1, 2, 3, 4, 5)\n",
        "\n",
        "result = str(nums)\n",
        "\n",
        "print(result)"
      ],
      "metadata": {
        "id": "AudeNNOin77h",
        "colab": {
          "base_uri": "https://localhost:8080/"
        },
        "outputId": "1b90e21d-9102-4d4c-9a8c-80261f84eac7"
      },
      "execution_count": 65,
      "outputs": [
        {
          "output_type": "stream",
          "name": "stdout",
          "text": [
            "(1, 2, 3, 4, 5)\n"
          ]
        }
      ]
    },
    {
      "cell_type": "markdown",
      "source": [
        "####4. Проверьте, содержится ли определенный элемент в кортеже, выведите соответствующее сообщение.\n"
      ],
      "metadata": {
        "id": "HOOFXQYtmeyG"
      }
    },
    {
      "cell_type": "code",
      "source": [
        "nums = (1, 2, 3, 4, 5)\n",
        "\n",
        "element = 3\n",
        "\n",
        "if element in nums:\n",
        "    print(f\"Элемент {element} содержится в кортеже\")\n",
        "else:\n",
        "    print(f\"Элемент {element} отсутствует в кортеже\")"
      ],
      "metadata": {
        "id": "PlPkzGCon8N2",
        "colab": {
          "base_uri": "https://localhost:8080/"
        },
        "outputId": "e973fcd8-be21-41e1-e16d-0e020ec442ab"
      },
      "execution_count": 66,
      "outputs": [
        {
          "output_type": "stream",
          "name": "stdout",
          "text": [
            "Элемент 3 содержится в кортеже\n"
          ]
        }
      ]
    },
    {
      "cell_type": "markdown",
      "source": [
        "####5. Создайте кортеж, состоящий из нескольких одинаковых элементов, и найдите их количество с помощью метода `count()`.\n"
      ],
      "metadata": {
        "id": "HSi5wD3xme3I"
      }
    },
    {
      "cell_type": "code",
      "source": [
        "nums = (1, 1, 1, 2, 2, 2, 2, 3, 3, 3, 4, 5)\n",
        "\n",
        "element = 2\n",
        "count_element = nums.count(element)\n",
        "\n",
        "print(f\"Число {element} встречается в кортеже {count_element} раз(а).\")"
      ],
      "metadata": {
        "id": "G5eyJNkZn8aw",
        "colab": {
          "base_uri": "https://localhost:8080/"
        },
        "outputId": "41fa1d0d-126b-46e4-896d-d125b78d4598"
      },
      "execution_count": 69,
      "outputs": [
        {
          "output_type": "stream",
          "name": "stdout",
          "text": [
            "Число 2 встречается в кортеже 4 раз(а).\n"
          ]
        }
      ]
    },
    {
      "cell_type": "markdown",
      "source": [
        "## **Блок заданий №8. Тип данных `dict`**"
      ],
      "metadata": {
        "id": "v7nByOSzn6Gs"
      }
    },
    {
      "cell_type": "markdown",
      "source": [
        "####1. Создайте словарь с данными о себе: ключи **\"имя\"**, **\"возраст\"**, **\"город\"**; выведите его.\n"
      ],
      "metadata": {
        "id": "SdH7l87WoNxs"
      }
    },
    {
      "cell_type": "code",
      "source": [
        "info = {\n",
        "    \"имя\": \"Роман\",\n",
        "    \"возраст\": 21,\n",
        "    \"город\": \"Москва\"\n",
        "}\n",
        "\n",
        "print(info)"
      ],
      "metadata": {
        "id": "G_5mPREsoO__",
        "colab": {
          "base_uri": "https://localhost:8080/"
        },
        "outputId": "1dd5334b-63ae-46c9-da2e-ae4e428ba757"
      },
      "execution_count": 70,
      "outputs": [
        {
          "output_type": "stream",
          "name": "stdout",
          "text": [
            "{'имя': 'Роман', 'возраст': 21, 'город': 'Москва'}\n"
          ]
        }
      ]
    },
    {
      "cell_type": "markdown",
      "source": [
        "####2. Выведите значение по ключу **\"имя\"** из созданного словаря.\n"
      ],
      "metadata": {
        "id": "nsoYMyesoMxq"
      }
    },
    {
      "cell_type": "code",
      "source": [
        "print(info[\"имя\"])"
      ],
      "metadata": {
        "id": "OL_waQuioPSG",
        "colab": {
          "base_uri": "https://localhost:8080/"
        },
        "outputId": "fc9e9224-a02a-4e05-9cf0-b0b083607937"
      },
      "execution_count": 72,
      "outputs": [
        {
          "output_type": "stream",
          "name": "stdout",
          "text": [
            "Роман\n"
          ]
        }
      ]
    },
    {
      "cell_type": "markdown",
      "source": [
        "####3. Добавьте в словарь новый ключ **\"профессия\"** со значением и выведите словарь.\n"
      ],
      "metadata": {
        "id": "0T_miCFjoLhI"
      }
    },
    {
      "cell_type": "code",
      "source": [
        "info[\"профессия\"] = \"программист\"\n",
        "\n",
        "print(info)"
      ],
      "metadata": {
        "id": "5LOqyJAHoPfn",
        "colab": {
          "base_uri": "https://localhost:8080/"
        },
        "outputId": "bee05c4c-c942-4b01-e3c3-29a8a804986e"
      },
      "execution_count": 73,
      "outputs": [
        {
          "output_type": "stream",
          "name": "stdout",
          "text": [
            "{'имя': 'Роман', 'возраст': 21, 'город': 'Москва', 'профессия': 'программист'}\n"
          ]
        }
      ]
    },
    {
      "cell_type": "markdown",
      "source": [
        "####4. Удалите из словаря ключ **\"город\"** и выведите обновленный словарь.\n"
      ],
      "metadata": {
        "id": "QPwxJK74oKZ3"
      }
    },
    {
      "cell_type": "code",
      "source": [
        "del info[\"город\"]\n",
        "\n",
        "print(info)"
      ],
      "metadata": {
        "id": "3dPMpP1koPrR",
        "colab": {
          "base_uri": "https://localhost:8080/"
        },
        "outputId": "5bc9e9b9-9bc1-48c9-85fc-5d21685986e5"
      },
      "execution_count": 74,
      "outputs": [
        {
          "output_type": "stream",
          "name": "stdout",
          "text": [
            "{'имя': 'Роман', 'возраст': 21, 'профессия': 'программист'}\n"
          ]
        }
      ]
    },
    {
      "cell_type": "markdown",
      "source": [
        "####5. Создайте пустой словарь и добавьте в него пару ключ-значение, введенных пользователем."
      ],
      "metadata": {
        "id": "7UDgxikGoJXz"
      }
    },
    {
      "cell_type": "code",
      "source": [
        "info = {}\n",
        "\n",
        "key = input(\"Введите ключ: \")\n",
        "value = input(\"Введите значение: \")\n",
        "\n",
        "info[key] = value\n",
        "\n",
        "print(info)"
      ],
      "metadata": {
        "id": "AofDComvoP2d",
        "colab": {
          "base_uri": "https://localhost:8080/"
        },
        "outputId": "77c8fe29-609b-49c8-9ad4-f86da289b212"
      },
      "execution_count": 75,
      "outputs": [
        {
          "output_type": "stream",
          "name": "stdout",
          "text": [
            "Введите ключ: name\n",
            "Введите значение: Роман\n",
            "{'name': 'Роман'}\n"
          ]
        }
      ]
    }
  ]
}