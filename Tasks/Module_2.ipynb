{
 "nbformat": 4,
 "nbformat_minor": 0,
 "metadata": {
  "colab": {
   "provenance": []
  },
  "kernelspec": {
   "name": "python3",
   "display_name": "Python 3 (ipykernel)",
   "language": "python"
  },
  "language_info": {
   "name": "python"
  }
 },
 "cells": [
  {
   "cell_type": "markdown",
   "source": [
    "# **Практическая работа №2. Введение в Python. Циклы в Python: for и while. Функции в Python. Обработка исключений в Python (try, except, else, finally)**\n",
    "\n",
    "---\n",
    "\n",
    "\n"
   ],
   "metadata": {
    "id": "QliphIp1pbse"
   }
  },
  {
   "cell_type": "markdown",
   "source": [
    "**Обучающийся:** *Князев Роман Алексеевич*  "
   ],
   "metadata": {
    "id": "tTK8mNGDqA8Z"
   }
  },
  {
   "cell_type": "markdown",
   "source": [
    "\n",
    "\n",
    "---"
   ],
   "metadata": {
    "id": "wTJjWD61p_dZ"
   }
  },
  {
   "cell_type": "markdown",
   "source": [
    "## **Блок заданий №1. Циклы в Python: for и while**\n",
    "\n"
   ],
   "metadata": {
    "id": "-iXZOjjEoLsS"
   }
  },
  {
   "cell_type": "markdown",
   "source": [
    "### 1. **Сумма чисел от 1 до N**  \n",
    "   Напишите программу, которая запрашивает у пользователя число `N` и с помощью цикла `for` вычисляет сумму всех чисел от 1 до `N`."
   ],
   "metadata": {
    "id": "1Vy5lAnxoTrL"
   }
  },
  {
   "cell_type": "code",
   "source": [
    "n = int(input(\"Введите число N: \"))\n",
    "\n",
    "total = 0\n",
    "\n",
    "for i in range(1, n + 1):\n",
    "    total += i\n",
    "\n",
    "print(f\"\\nСумма чисел от 1 до {n} равна {total}\")"
   ],
   "metadata": {
    "id": "GNtKZwXSoSNg",
    "colab": {
     "base_uri": "https://localhost:8080/"
    },
    "outputId": "fc8ce19c-afb9-4297-a851-51d230da6f6d"
   },
   "execution_count": null,
   "outputs": [
    {
     "output_type": "stream",
     "name": "stdout",
     "text": [
      "Введите число N: 5\n",
      "\n",
      "Сумма чисел от 1 до 5 равна 15\n"
     ]
    }
   ]
  },
  {
   "cell_type": "markdown",
   "source": [
    "\n",
    "### 2. **Вывод четных чисел**  \n",
    "   Используя цикл `while`, напишите программу, которая выводит все четные числа от 1 до 100."
   ],
   "metadata": {
    "id": "JgNf_8IToNQH"
   }
  },
  {
   "cell_type": "code",
   "source": [
    "start = 1\n",
    "end = 100\n",
    "\n",
    "num = start\n",
    "\n",
    "while num <= end:\n",
    "    if num % 2 == 0:\n",
    "        print(num)\n",
    "    num += 1"
   ],
   "metadata": {
    "id": "0Mgimf-9oWjm",
    "colab": {
     "base_uri": "https://localhost:8080/"
    },
    "outputId": "7b15e2b5-da35-44c5-bb1e-a300eabdbe36"
   },
   "execution_count": null,
   "outputs": [
    {
     "output_type": "stream",
     "name": "stdout",
     "text": [
      "2\n",
      "4\n",
      "6\n",
      "8\n",
      "10\n",
      "12\n",
      "14\n",
      "16\n",
      "18\n",
      "20\n",
      "22\n",
      "24\n",
      "26\n",
      "28\n",
      "30\n",
      "32\n",
      "34\n",
      "36\n",
      "38\n",
      "40\n",
      "42\n",
      "44\n",
      "46\n",
      "48\n",
      "50\n",
      "52\n",
      "54\n",
      "56\n",
      "58\n",
      "60\n",
      "62\n",
      "64\n",
      "66\n",
      "68\n",
      "70\n",
      "72\n",
      "74\n",
      "76\n",
      "78\n",
      "80\n",
      "82\n",
      "84\n",
      "86\n",
      "88\n",
      "90\n",
      "92\n",
      "94\n",
      "96\n",
      "98\n",
      "100\n"
     ]
    }
   ]
  },
  {
   "cell_type": "markdown",
   "source": [
    "### 3. **Таблица умножения**  \n",
    "   Напишите программу, которая с помощью вложенного цикла `for` выводит таблицу умножения (от 1 до 10)."
   ],
   "metadata": {
    "id": "WvLRnMt8oOpv"
   }
  },
  {
   "cell_type": "markdown",
   "source": [
    "**Пример выходных данных**\n",
    "```\n",
    "   1   2   3   4   5   6   7   8   9  10\n",
    "   2   4   6   8  10  12  14  16  18  20\n",
    "   3   6   9  12  15  18  21  24  27  30\n",
    "   4   8  12  16  20  24  28  32  36  40\n",
    "   5  10  15  20  25  30  35  40  45  50\n",
    "   6  12  18  24  30  36  42  48  54  60\n",
    "   7  14  21  28  35  42  49  56  63  70\n",
    "   8  16  24  32  40  48  56  64  72  80\n",
    "   9  18  27  36  45  54  63  72  81  90\n",
    "  10  20  30  40  50  60  70  80  90 100\n",
    "```\n"
   ],
   "metadata": {
    "id": "lMCzrvNAuiPt"
   }
  },
  {
   "cell_type": "code",
   "source": [
    "rows = 10\n",
    "cols = 10\n",
    "\n",
    "for first_num in range(1, rows + 1):\n",
    "    for second_num in range(1, cols + 1):\n",
    "        print(f\"{first_num * second_num:4}\", end=\"\")\n",
    "    print()"
   ],
   "metadata": {
    "id": "9bTYZUCqoW9l",
    "colab": {
     "base_uri": "https://localhost:8080/"
    },
    "outputId": "a09996b2-9e58-4025-c71a-1fd7a1f68c6e"
   },
   "execution_count": null,
   "outputs": [
    {
     "output_type": "stream",
     "name": "stdout",
     "text": [
      "   1   2   3   4   5   6   7   8   9  10\n",
      "   2   4   6   8  10  12  14  16  18  20\n",
      "   3   6   9  12  15  18  21  24  27  30\n",
      "   4   8  12  16  20  24  28  32  36  40\n",
      "   5  10  15  20  25  30  35  40  45  50\n",
      "   6  12  18  24  30  36  42  48  54  60\n",
      "   7  14  21  28  35  42  49  56  63  70\n",
      "   8  16  24  32  40  48  56  64  72  80\n",
      "   9  18  27  36  45  54  63  72  81  90\n",
      "  10  20  30  40  50  60  70  80  90 100\n"
     ]
    }
   ]
  },
  {
   "cell_type": "markdown",
   "source": [
    "### 4. **Обратный отсчет**  \n",
    "   Напишите программу, которая с помощью цикла `while` выводит обратный отсчет от 10 до 1, а затем выводит сообщение \"Старт!\"."
   ],
   "metadata": {
    "id": "alRU4K6moPoX"
   }
  },
  {
   "cell_type": "code",
   "source": [
    "start = 10\n",
    "end = 1\n",
    "\n",
    "num = start\n",
    "\n",
    "while num >= end:\n",
    "    print(num)\n",
    "    num -= 1\n",
    "\n",
    "print(\"Старт!\")"
   ],
   "metadata": {
    "id": "xlwpaJbkoXja",
    "colab": {
     "base_uri": "https://localhost:8080/"
    },
    "outputId": "b6439bd4-efc9-4141-e808-f31defb271a6"
   },
   "execution_count": null,
   "outputs": [
    {
     "output_type": "stream",
     "name": "stdout",
     "text": [
      "10\n",
      "9\n",
      "8\n",
      "7\n",
      "6\n",
      "5\n",
      "4\n",
      "3\n",
      "2\n",
      "1\n",
      "Старт!\n"
     ]
    }
   ]
  },
  {
   "cell_type": "markdown",
   "source": [
    "\n",
    "\n",
    "### 5. **Поиск максимального числа**  \n",
    "   Напишите программу, которая запрашивает у пользователя 5 чисел и с помощью цикла `for` находит и выводит максимальное из них."
   ],
   "metadata": {
    "id": "ZOrByPyjoQrK"
   }
  },
  {
   "cell_type": "code",
   "source": [
    "max_num = float(\"-inf\")\n",
    "total_nums = 5\n",
    "\n",
    "for index in range(1, total_nums + 1):\n",
    "    input_num = int(input(f\"Введите {index}-e число: \"))\n",
    "    max_num = max(max_num, input_num)\n",
    "\n",
    "print(f\"\\nМаксимальное число: {max_num}\")"
   ],
   "metadata": {
    "id": "nPiZGu03oX6V",
    "colab": {
     "base_uri": "https://localhost:8080/"
    },
    "outputId": "c332325e-31b9-445a-c5f2-7a4d58746ae2"
   },
   "execution_count": null,
   "outputs": [
    {
     "output_type": "stream",
     "name": "stdout",
     "text": [
      "Введите 1-e число: 1\n",
      "Введите 2-e число: 2\n",
      "Введите 3-e число: 3\n",
      "Введите 4-e число: 4\n",
      "Введите 5-e число: 5\n",
      "\n",
      "Максимальное число: 5\n"
     ]
    }
   ]
  },
  {
   "cell_type": "markdown",
   "source": [
    "## **Блок заданий №2. Функции в Python**\n"
   ],
   "metadata": {
    "id": "n3_ntES4op47"
   }
  },
  {
   "cell_type": "markdown",
   "source": [
    "При написании функций используйте аннотацию типов, а также добавляйте строку документации."
   ],
   "metadata": {
    "id": "e8JyxIPov56d"
   }
  },
  {
   "cell_type": "markdown",
   "source": [
    "### 1. **Функция для вычисления факториала**  \n",
    "   Напишите функцию `factorial(n)`, которая принимает число `n` и возвращает его факториал. Проверьте работу функции на нескольких примерах.\n",
    "\n",
    "\n",
    "\n",
    "\n",
    "\n",
    "\n",
    "\n"
   ],
   "metadata": {
    "id": "0hZbwgVmocJb"
   }
  },
  {
   "cell_type": "code",
   "source": [
    "def factorial(n: int) -> int:\n",
    "    \"\"\"\n",
    "    Calculate factorial of number n.\n",
    "\n",
    "    :param n: non-negative integer\n",
    "\n",
    "    :return: factorial of n\n",
    "    \"\"\"\n",
    "    result = 1\n",
    "\n",
    "    for num in range(1, n + 1):\n",
    "        result *= num\n",
    "\n",
    "    return result\n",
    "\n",
    "\n",
    "total_num = 10\n",
    "\n",
    "for index in range(total_num):\n",
    "    print(f\"Факториал {index} = {factorial(index)}\")"
   ],
   "metadata": {
    "id": "-HdkvvY9owo8",
    "colab": {
     "base_uri": "https://localhost:8080/"
    },
    "outputId": "60b102b4-31b5-40ce-82dc-e487def55683",
    "ExecuteTime": {
     "end_time": "2025-09-22T14:34:36.811219Z",
     "start_time": "2025-09-22T14:34:36.801314Z"
    }
   },
   "outputs": [
    {
     "name": "stdout",
     "output_type": "stream",
     "text": [
      "Факториал 0 = 1\n",
      "Факториал 1 = 1\n",
      "Факториал 2 = 2\n",
      "Факториал 3 = 6\n",
      "Факториал 4 = 24\n",
      "Факториал 5 = 120\n",
      "Факториал 6 = 720\n",
      "Факториал 7 = 5040\n",
      "Факториал 8 = 40320\n",
      "Факториал 9 = 362880\n"
     ]
    }
   ],
   "execution_count": 1
  },
  {
   "cell_type": "markdown",
   "source": [
    "### 2. **Функция для проверки четности**  \n",
    "   Напишите функцию `is_even(n)`, которая принимает число `n` и возвращает `True`, если число четное, и `False` в противном случае."
   ],
   "metadata": {
    "id": "xEQgEhEKovb6"
   }
  },
  {
   "cell_type": "code",
   "source": [
    "def is_even(n: int) -> bool:\n",
    "    \"\"\"\n",
    "    Check if a number is even.\n",
    "\n",
    "    :param n: integer number\n",
    "\n",
    "    :return: True if the number is even, False otherwise\n",
    "    \"\"\"\n",
    "    return n % 2 == 0\n",
    "\n",
    "\n",
    "print(is_even(100))\n",
    "print(is_even(71))\n",
    "print(is_even(0))"
   ],
   "metadata": {
    "id": "Qbgw2_QLow--",
    "colab": {
     "base_uri": "https://localhost:8080/"
    },
    "outputId": "f56c7e5b-58a7-4292-c8ab-ff3be10c356c"
   },
   "execution_count": null,
   "outputs": [
    {
     "output_type": "stream",
     "name": "stdout",
     "text": [
      "True\n",
      "False\n",
      "True\n"
     ]
    }
   ]
  },
  {
   "cell_type": "markdown",
   "source": [
    "### 3. **Функция с именованными аргументами**  \n",
    "   Напишите функцию `person_info(name, age, city=\"Москва\")`, которая принимает имя, возраст и город (по умолчанию \"Москва\"). Функция должна возвращать строку с информацией о человеке.  \n",
    "   \n",
    "   Пример:  \n",
    "```\n",
    "person_info(\"Иван\", 25) → \"Иван, 25 лет, из города Москва\"\n",
    "person_info(\"Мария\", 30, \"Санкт-Петербург\") → \"Мария, 30 лет, из города Санкт-Петербург\"\n",
    "```"
   ],
   "metadata": {
    "id": "-PWnY3LcouSk"
   }
  },
  {
   "cell_type": "code",
   "source": [
    "def person_info(name: str, age: int, city: str = \"Москва\") -> str:\n",
    "    \"\"\"\n",
    "    Return information about a person in a formatted string.\n",
    "\n",
    "    :param name: person name\n",
    "    :param age: person age\n",
    "    :param city: person city\n",
    "\n",
    "    :return: formatted string with person info\n",
    "    \"\"\"\n",
    "    return f\"{name}, {age} лет, из города {city}\"\n",
    "\n",
    "\n",
    "print(person_info(\"Иван\", 25))\n",
    "print(person_info(\"Мария\", 30, \"Санкт-Петербург\"))"
   ],
   "metadata": {
    "id": "8x-s4u8voxUR",
    "colab": {
     "base_uri": "https://localhost:8080/"
    },
    "outputId": "7351cad9-b763-4082-e9b5-d71ce38b229f"
   },
   "execution_count": null,
   "outputs": [
    {
     "output_type": "stream",
     "name": "stdout",
     "text": [
      "Иван, 25 лет, из города Москва\n",
      "Мария, 30 лет, из города Санкт-Петербург\n"
     ]
    }
   ]
  },
  {
   "cell_type": "markdown",
   "source": [
    "### 4. **Фильтрация четных чисел**  \n",
    "   Напишите функцию `filter_even(*args)`, которая принимает произвольное количество чисел и возвращает список только из четных чисел.  \n",
    "   Пример:  \n",
    "   ```\n",
    "   filter_even(1, 2, 3, 4, 5, 6) → [2, 4, 6]\n",
    "   filter_even(7, 9, 11) → []\n",
    "   ```"
   ],
   "metadata": {
    "id": "DxtROjY3osrS"
   }
  },
  {
   "cell_type": "code",
   "source": [
    "def filter_even(*args: int) -> list[int]:\n",
    "    \"\"\"\n",
    "    Return list of even numbers from given arguments.\n",
    "\n",
    "    :param args: arbitrary number of integers\n",
    "\n",
    "    :return: list containing only even numbers\n",
    "    \"\"\"\n",
    "    return list(filter(lambda x: x % 2 == 0, args))\n",
    "\n",
    "\n",
    "print(filter_even(1, 2, 3, 4, 5, 6))\n",
    "print(filter_even(7, 9, 11))"
   ],
   "metadata": {
    "id": "CMROKo1Iox9C",
    "colab": {
     "base_uri": "https://localhost:8080/"
    },
    "outputId": "fa5b9f85-78b3-45e5-adb7-65de51320023"
   },
   "execution_count": null,
   "outputs": [
    {
     "output_type": "stream",
     "name": "stdout",
     "text": [
      "[2, 4, 6]\n",
      "[]\n"
     ]
    }
   ]
  },
  {
   "cell_type": "markdown",
   "source": [
    "### 5. **Функция для вычисления статистики**  \n",
    "   Напишите функцию `calculate_stats(*args, **kwargs)`, которая:  \n",
    "   - Из позиционных аргументов вычисляет минимальное, максимальное и среднее значение.  \n",
    "   - Из именованных аргументов возвращает словарь, где ключи — это аргументы, а значения — их типы данных.  \n",
    "   Пример:  \n",
    "   ```\n",
    "   calculate_stats(1, 2, 3, 4, name=\"Иван\", age=25) → ((1, 4, 2.5), {\"name\": \"str\", \"age\": \"int\"})\n",
    "   ```"
   ],
   "metadata": {
    "id": "TPLTxuASorpB"
   }
  },
  {
   "cell_type": "code",
   "source": [
    "from typing import (\n",
    "    Any,\n",
    "    Union,\n",
    ")\n",
    "\n",
    "\n",
    "StatsResult = tuple[\n",
    "    tuple[Union[int, float], Union[int, float], Union[float, int]],\n",
    "    dict[str, str]\n",
    "]\n",
    "\n",
    "\n",
    "def calculate_stats(*args: int | float, **kwargs: Any) -> StatsResult:\n",
    "    \"\"\"\n",
    "    Calculate statistics for numbers and return argument types.\n",
    "\n",
    "    :param args: positional numbers\n",
    "    :param kwargs: keyword arguments\n",
    "\n",
    "    :return: tuple with two parts:\n",
    "        - (min, max, avg) for positional args\n",
    "        - {key: type_name} for keyword args\n",
    "    \"\"\"\n",
    "    stats = (\n",
    "        (min(args), max(args), sum(args) / len(args))\n",
    "        if args else\n",
    "        (None, None, None)\n",
    "    )\n",
    "\n",
    "    types_info = {\n",
    "        key: str(type(value)).split(\"'\")[1]\n",
    "        for key, value in kwargs.items()\n",
    "    }\n",
    "\n",
    "    return stats, types_info\n",
    "\n",
    "\n",
    "print(calculate_stats(1, 2, 3, 4, name=\"Иван\", age=25))"
   ],
   "metadata": {
    "id": "F-1JYEoMoykp",
    "colab": {
     "base_uri": "https://localhost:8080/"
    },
    "outputId": "35bcb905-83e9-4533-f71f-3ec4ea118ad4"
   },
   "execution_count": null,
   "outputs": [
    {
     "output_type": "stream",
     "name": "stdout",
     "text": [
      "((1, 4, 2.5), {'name': 'str', 'age': 'int'})\n"
     ]
    }
   ]
  },
  {
   "cell_type": "markdown",
   "source": [
    "## **Блок заданий №3. Работа с текстовыми файлами в Python**\n"
   ],
   "metadata": {
    "id": "ZwSzb-PToe-5"
   }
  },
  {
   "cell_type": "markdown",
   "source": [
    "### 1. **Запись в файл**  \n",
    "   Напишите программу, которая запрашивает у пользователя строку и записывает её в файл `output.txt`."
   ],
   "metadata": {
    "id": "NO_aT90DpDwS"
   }
  },
  {
   "cell_type": "code",
   "source": [
    "text = input(\"Введите строку для записи в файл: \")\n",
    "filename = \"output.txt\"\n",
    "\n",
    "with open(filename, \"w\", encoding=\"utf-8\") as file:\n",
    "    file.write(text)\n",
    "\n",
    "print(f\"\\nСтрока успешно записана в файл {filename}\")"
   ],
   "metadata": {
    "id": "CNGiLXnkpUfa",
    "colab": {
     "base_uri": "https://localhost:8080/"
    },
    "outputId": "6e9ac033-8fc9-471a-866d-f591ae60ee07"
   },
   "execution_count": 52,
   "outputs": [
    {
     "output_type": "stream",
     "name": "stdout",
     "text": [
      "Введите строку для записи в файл: Lorem ipsum dolor sit amet, consectetur adipiscing elit, sed do eiusmod tempor incididunt ut labore et dolore magna aliqua.\n",
      "\n",
      "Строка успешно записана в файл output.txt\n"
     ]
    }
   ]
  },
  {
   "cell_type": "markdown",
   "source": [
    "### 2. **Чтение из файла**  \n",
    "   Напишите программу, которая открывает файл `output.txt` и выводит его содержимое на экран."
   ],
   "metadata": {
    "id": "fy_uuck5pE8B"
   }
  },
  {
   "cell_type": "code",
   "source": [
    "filename = \"output.txt\"\n",
    "\n",
    "with open(filename, \"r\", encoding=\"utf-8\") as file:\n",
    "    content = file.read()\n",
    "\n",
    "print(f\"Содержимое файла: {content}\")"
   ],
   "metadata": {
    "id": "-9eB_a1rpUuA",
    "colab": {
     "base_uri": "https://localhost:8080/"
    },
    "outputId": "ce65a7d7-8c59-47be-8505-5c1cb7c083d5"
   },
   "execution_count": 53,
   "outputs": [
    {
     "output_type": "stream",
     "name": "stdout",
     "text": [
      "Содержимое файла: Lorem ipsum dolor sit amet, consectetur adipiscing elit, sed do eiusmod tempor incididunt ut labore et dolore magna aliqua.\n"
     ]
    }
   ]
  },
  {
   "cell_type": "markdown",
   "source": [
    "### 3. **Подсчет строк в файле**  \n",
    "   Напишите программу, которая открывает файл `output.txt` и подсчитывает количество строк в нём."
   ],
   "metadata": {
    "id": "yaF0YWwYpF7a"
   }
  },
  {
   "cell_type": "code",
   "source": [
    "filename = \"output.txt\"\n",
    "\n",
    "with open(filename, \"r\", encoding=\"utf-8\") as file:\n",
    "    lines = file.readlines()\n",
    "\n",
    "print(f\"Количество строк в файле: {len(lines)}\")"
   ],
   "metadata": {
    "id": "lZsdbitnpU8y",
    "colab": {
     "base_uri": "https://localhost:8080/"
    },
    "outputId": "827db40b-2b7f-4474-dfd5-6d6a1c0009f7"
   },
   "execution_count": 54,
   "outputs": [
    {
     "output_type": "stream",
     "name": "stdout",
     "text": [
      "Количество строк в файле: 1\n"
     ]
    }
   ]
  },
  {
   "cell_type": "markdown",
   "source": [
    "### 4. **Копирование содержимого файла**  \n",
    "   Напишите программу, которая копирует содержимое файла `input.txt` в файл `output.txt`."
   ],
   "metadata": {
    "id": "Ps4aMC32pG3q"
   }
  },
  {
   "cell_type": "code",
   "source": [
    "input_file = \"input.txt\"\n",
    "output_file = \"output.txt\"\n",
    "\n",
    "with (\n",
    "    open(input_file, \"r\", encoding=\"utf-8\") as src,\n",
    "    open(output_file, \"w\", encoding=\"utf-8\") as dst\n",
    "):\n",
    "    content = src.read()\n",
    "    dst.write(content)\n",
    "\n",
    "print(f\"Содержимое файла '{input_file}' успешно скопировано в '{output_file}'\")"
   ],
   "metadata": {
    "id": "x2LuA9ZwpVPz",
    "colab": {
     "base_uri": "https://localhost:8080/"
    },
    "outputId": "14888d0b-0c02-4054-a1e1-86791eee8ead"
   },
   "execution_count": 56,
   "outputs": [
    {
     "output_type": "stream",
     "name": "stdout",
     "text": [
      "Содержимое файла 'input.txt' успешно скопировано в 'output.txt'\n"
     ]
    }
   ]
  },
  {
   "cell_type": "markdown",
   "source": [
    "### 5. **Поиск слова в файле**  \n",
    "   Напишите программу, которая открывает файл `output.txt` и проверяет, содержится ли в нём слово, введённое пользователем."
   ],
   "metadata": {
    "id": "lWGe5Xj4oIn-"
   }
  },
  {
   "cell_type": "code",
   "source": [
    "filename = \"output.txt\"\n",
    "word = input(\"Введите слово для поиска: \")\n",
    "\n",
    "found = False\n",
    "\n",
    "with open(filename, \"r\", encoding=\"utf-8\") as file:\n",
    "    for line in file:\n",
    "        if word in line:\n",
    "            found = True\n",
    "            break\n",
    "\n",
    "if found:\n",
    "    print(f\"\\nСлово '{word}' найдено в файле '{filename}'.\")\n",
    "else:\n",
    "    print(f\"\\nСлово '{word}' не найдено в файле '{filename}'.\")"
   ],
   "metadata": {
    "id": "dqPsCHK2pVha",
    "colab": {
     "base_uri": "https://localhost:8080/"
    },
    "outputId": "fd4c8f03-6fbe-4f8e-e448-5b3ef59170bc"
   },
   "execution_count": 61,
   "outputs": [
    {
     "output_type": "stream",
     "name": "stdout",
     "text": [
      "Введите слово для поиска: ipsum\n",
      "\n",
      "Слово 'ipsum' найдено в файле 'output.txt'.\n"
     ]
    }
   ]
  },
  {
   "cell_type": "markdown",
   "source": [
    "## **Блок заданий №4. Обработка исключений в Python (try, except, else, finally)**\n"
   ],
   "metadata": {
    "id": "1kJHV5F1o2W-"
   }
  },
  {
   "cell_type": "markdown",
   "source": [
    "### 1. **Чтение файла с обработкой FileNotFoundError**  \n",
    "   Напишите программу, которая запрашивает у пользователя имя (или путь к) файла и пытается открыть его. Если файла не существует, перехватите FileNotFoundError и выведите сообщение «Файл не найден!».\n",
    "\n",
    "\n",
    "\n",
    "\n",
    "\n",
    "\n",
    "\n"
   ],
   "metadata": {
    "id": "EpLMWWsYog9c"
   }
  },
  {
   "cell_type": "code",
   "source": [
    "filename = input(\"Введите имя или путь к файлу: \")\n",
    "\n",
    "try:\n",
    "    with open(filename, \"r\", encoding=\"utf-8\") as file:\n",
    "        content = file.read()\n",
    "        print(f\"\\nСодержимое файла: {content}\")\n",
    "\n",
    "except FileNotFoundError:\n",
    "    print(\"\\nФайл не найден!\")"
   ],
   "metadata": {
    "id": "pdSXLhuAo9wL",
    "colab": {
     "base_uri": "https://localhost:8080/"
    },
    "outputId": "8235b7d0-f991-43f8-c984-4d25013fbf70"
   },
   "execution_count": 66,
   "outputs": [
    {
     "output_type": "stream",
     "name": "stdout",
     "text": [
      "Введите имя или путь к файлу: _output.txt\n",
      "\n",
      "Файл не найден!\n"
     ]
    }
   ]
  },
  {
   "cell_type": "markdown",
   "source": [
    "### 2. **Простейший калькулятор с обработкой нескольких исключений**  \n",
    "   Напишите программу, которая спрашивает у пользователя два числа и операцию (+, -, *, /). При попытках сложения или вычитания некорректных значений перехватывайте ValueError, а при делении на ноль — ZeroDivisionError, выводя соответствующие сообщения.\n"
   ],
   "metadata": {
    "id": "_1KEOBCho7wv"
   }
  },
  {
   "cell_type": "code",
   "source": [
    "def calculate(\n",
    "    first_num: float,\n",
    "    second_num: float,\n",
    "    operation: str,\n",
    ") -> float:\n",
    "    \"\"\"\n",
    "    Perform a basic arithmetic operation on two numbers.\n",
    "\n",
    "    :param first_num: first number\n",
    "    :param second_num: second number\n",
    "    :param operation: operation symbol (+, -, *, /)\n",
    "\n",
    "    :return: result of operation\n",
    "\n",
    "    :raises ValueError: if operation is unknown\n",
    "    \"\"\"\n",
    "    match operation:\n",
    "        case \"+\":\n",
    "            return first_num + second_num\n",
    "        case \"-\":\n",
    "            return first_num - second_num\n",
    "        case \"*\":\n",
    "            return first_num * second_num\n",
    "        case \"/\":\n",
    "            return first_num / second_num\n",
    "        case _:\n",
    "            raise ValueError(\"Неизвестная операция\")\n",
    "\n",
    "\n",
    "def safe_calculate(\n",
    "    first_num: float,\n",
    "    second_num: float,\n",
    "    operation: str,\n",
    ") -> None:\n",
    "    \"\"\"\n",
    "    Call calculate function and handle possible exceptions.\n",
    "\n",
    "    :param first_num: first number\n",
    "    :param second_num: second number\n",
    "    :param operation: operation symbol (+, -, *, /)\n",
    "    \"\"\"\n",
    "    try:\n",
    "        num_1 = float(first_num)\n",
    "        num_2 = float(second_num)\n",
    "\n",
    "    except ValueError:\n",
    "        print(\"\\nОшибка: нужно вводить числа!\")\n",
    "        return\n",
    "\n",
    "    try:\n",
    "        result = calculate(num_1, num_2, operation)\n",
    "        print(f\"\\nРезультат: {result}\")\n",
    "\n",
    "    except ValueError as error:\n",
    "        print(f\"\\nОшибка: {error}\")\n",
    "\n",
    "    except ZeroDivisionError:\n",
    "        print(\"\\nОшибка: деление на ноль невозможно\")\n",
    "\n",
    "\n",
    "first_num = input(\"Введите первое число: \")\n",
    "second_num = input(\"Введите второе число: \")\n",
    "operation = input(\"Введите операцию (+, -, *, /): \")\n",
    "\n",
    "safe_calculate(first_num, second_num, operation)"
   ],
   "metadata": {
    "id": "WPcrPlXWo-bz",
    "colab": {
     "base_uri": "https://localhost:8080/"
    },
    "outputId": "8b55e407-81cd-4acb-d3a6-73ba3e577eaa"
   },
   "execution_count": 73,
   "outputs": [
    {
     "output_type": "stream",
     "name": "stdout",
     "text": [
      "Введите первое число: 10\n",
      "Введите второе число: 5\n",
      "Введите операцию (+, -, *, /): -\n",
      "\n",
      "Результат: 5.0\n"
     ]
    }
   ]
  },
  {
   "cell_type": "markdown",
   "source": [
    "### 3. **Обработка некорректного индекса (IndexError)**  \n",
    "   Создайте список из нескольких элементов (например, [10, 20, 30]). Попросите пользователя ввести индекс элемента, который нужно вывести. Если пользователь введёт индекс, выходящий за границы списка, перехватите IndexError и сообщите об этом в консоли в свободной форме."
   ],
   "metadata": {
    "id": "I-0e0lcio6tK"
   }
  },
  {
   "cell_type": "code",
   "source": [
    "nums = [10, 20, 30]\n",
    "\n",
    "index_str = input(\"Введите индекс элемента списка: \")\n",
    "\n",
    "try:\n",
    "    index = int(index_str)\n",
    "    print(f\"\\nЭлемент с индексом {index}: {nums[index]}\")\n",
    "\n",
    "except ValueError:\n",
    "    print(\"\\nОшибка: индекс должен быть числом!\")\n",
    "\n",
    "except IndexError:\n",
    "    print(\"\\nТакого индекса в списке нет\")\n"
   ],
   "metadata": {
    "id": "8XSXyscqo-2U",
    "colab": {
     "base_uri": "https://localhost:8080/"
    },
    "outputId": "66724160-cdb8-4a7b-e4ae-5f14be211d4c"
   },
   "execution_count": 80,
   "outputs": [
    {
     "output_type": "stream",
     "name": "stdout",
     "text": [
      "Введите индекс элемента списка: -4\n",
      "\n",
      "Такого индекса в списке нет\n"
     ]
    }
   ]
  },
  {
   "cell_type": "markdown",
   "source": [
    "### 4. **Чтение и запись в файл с обработкой ошибок**  \n",
    "  Напишите программу, которая:  \n",
    "  - Запрашивает у пользователя имя файла.  \n",
    "  - Если файл существует, программа читает его содержимое и выводит на экран.  \n",
    "  - Если файл не существует, программа создает его и записывает в него строку `\"Файл был создан\"`.  \n",
    "  Используйте обработку исключений.\n",
    "\n",
    "  Пример:  \n",
    "    ```\n",
    "    Введите имя файла: data.txt  \n",
    "    Файл не найден. Создан новый файл.\n",
    "    ```"
   ],
   "metadata": {
    "id": "OeQvEFV9o5My"
   }
  },
  {
   "cell_type": "code",
   "source": [
    "filename = input(\"Введите имя файла: \")\n",
    "\n",
    "try:\n",
    "    with open(filename, \"r\", encoding=\"utf-8\") as file:\n",
    "        content = file.read()\n",
    "        print(f\"\\nСодержимое файла: {content}\")\n",
    "\n",
    "except FileNotFoundError:\n",
    "    with open(filename, \"w\", encoding=\"utf-8\") as file:\n",
    "        file.write(\"Файл был создан\")\n",
    "\n",
    "    print(\"\\nФайл не найден. Создан новый файл.\")"
   ],
   "metadata": {
    "id": "ttNZVIbQo_LV",
    "colab": {
     "base_uri": "https://localhost:8080/"
    },
    "outputId": "6bc2685b-8587-4291-ef71-4f6aaa1c9c10"
   },
   "execution_count": 83,
   "outputs": [
    {
     "output_type": "stream",
     "name": "stdout",
     "text": [
      "Введите имя файла: data.txt\n",
      "\n",
      "Файл не найден. Создан новый файл.\n"
     ]
    }
   ]
  },
  {
   "cell_type": "markdown",
   "source": [
    "\n",
    "### 5. **Обработка исключений в цикле**  \n",
    "  Напишите программу, которая запрашивает у пользователя числа и добавляет их в список.  \n",
    "  - Если пользователь вводит некорректные данные, программа должна выводить сообщение об ошибке и продолжать работу.  \n",
    "  - Для выхода из программы пользователь должен ввести `\"стоп\"`.\n",
    "\n",
    "  Пример:  \n",
    "    ```\n",
    "    Введите число: 10  \n",
    "    Введите число: текст  \n",
    "    Ошибка: это не число.  \n",
    "    Введите число: стоп  \n",
    "    Итоговый список: [10]\n",
    "    ```"
   ],
   "metadata": {
    "id": "-XGCqB2zo4G_"
   }
  },
  {
   "cell_type": "code",
   "source": [
    "nums = []\n",
    "\n",
    "while True:\n",
    "    user_input = input(\"Введите целое число (или 'стоп' для выхода): \").strip()\n",
    "\n",
    "    if user_input.lower() == \"стоп\":\n",
    "        break\n",
    "\n",
    "    try:\n",
    "        nums.append(int(user_input))\n",
    "\n",
    "    except ValueError:\n",
    "        print(\"Ошибка: это не число.\")\n",
    "\n",
    "print(f\"\\nИтоговый список: {nums}\")\n"
   ],
   "metadata": {
    "id": "93pustD1o_hy",
    "colab": {
     "base_uri": "https://localhost:8080/"
    },
    "outputId": "2555a18a-c2a9-4893-cdd9-a9f73df83be4"
   },
   "execution_count": 89,
   "outputs": [
    {
     "output_type": "stream",
     "name": "stdout",
     "text": [
      "Введите целое число (или 'стоп' для выхода): 10\n",
      "Введите целое число (или 'стоп' для выхода): текст\n",
      "Ошибка: это не число.\n",
      "Введите целое число (или 'стоп' для выхода): стоп \n",
      "\n",
      "Итоговый список: [10]\n"
     ]
    }
   ]
  }
 ]
}
